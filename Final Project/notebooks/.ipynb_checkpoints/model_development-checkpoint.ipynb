{
 "cells": [
  {
   "cell_type": "code",
   "execution_count": 9,
   "id": "6a7ec84a",
   "metadata": {},
   "outputs": [],
   "source": [
    "# import libraries\n",
    "import numpy as np\n",
    "import pandas as pd\n",
    "from pathlib import Path\n",
    "\n",
    "import seaborn as sns\n",
    "import matplotlib.pyplot as plt\n",
    "%matplotlib inline\n",
    "plt.rcParams['font.size'] = '15'\n",
    "\n",
    "from sklearn.linear_model import LinearRegression, SGDRegressor\n",
    "from sklearn.ensemble import RandomForestRegressor, GradientBoostingRegressor\n",
    "from sklearn.svm import SVR\n",
    "from lightgbm import LGBMRegressor\n",
    "from xgboost.sklearn import XGBRegressor\n",
    "from catboost import CatBoostRegressor\n",
    "from sklearn.kernel_ridge import KernelRidge\n",
    "from sklearn.linear_model import ElasticNet, Lasso,  BayesianRidge, Ridge\n",
    "\n",
    "from sklearn.preprocessing import RobustScaler, MinMaxScaler, StandardScaler, Normalizer, FunctionTransformer\n",
    "from sklearn.preprocessing import OneHotEncoder\n",
    "from sklearn.pipeline import Pipeline, make_pipeline\n",
    "from sklearn.compose import ColumnTransformer, make_column_selector\n",
    "from sklearn.preprocessing import FunctionTransformer\n",
    "from scipy.stats import skew\n",
    "\n",
    "from sklearn.model_selection import cross_val_score, cross_validate\n",
    "from sklearn.model_selection import GridSearchCV\n",
    "from sklearn.model_selection import KFold\n",
    "from sklearn.model_selection import StratifiedKFold"
   ]
  },
  {
   "cell_type": "code",
   "execution_count": 10,
   "id": "02c76e1a",
   "metadata": {},
   "outputs": [],
   "source": [
    "# read the dataframe\n",
    "df = pd.read_csv('../data/Addis_Ababa_Solcast_clean.csv')"
   ]
  },
  {
   "cell_type": "code",
   "execution_count": 11,
   "id": "ab5f1f87-5af9-49b1-a044-8684f4405ded",
   "metadata": {},
   "outputs": [],
   "source": [
    "# feature engineering\n",
    "df['date'] = pd.to_datetime(df['date'], format='%Y-%m-%d')\n",
    "df['Year'] = df['date'].dt.year\n",
    "df['Day'] = df['date'].dt.day"
   ]
  },
  {
   "cell_type": "code",
   "execution_count": 12,
   "id": "dd428a8b-332b-4261-ae1a-8668f48660c9",
   "metadata": {},
   "outputs": [],
   "source": [
    "df = df.drop(columns=['date'])"
   ]
  },
  {
   "cell_type": "code",
   "execution_count": 13,
   "id": "0e2f1e93",
   "metadata": {},
   "outputs": [
    {
     "name": "stdout",
     "output_type": "stream",
     "text": [
      "<class 'pandas.core.frame.DataFrame'>\n",
      "RangeIndex: 1091 entries, 0 to 1090\n",
      "Data columns (total 15 columns):\n",
      " #   Column         Non-Null Count  Dtype  \n",
      "---  ------         --------------  -----  \n",
      " 0   Temperature    1091 non-null   float64\n",
      " 1   CloudOpacity   1091 non-null   float64\n",
      " 2   DHI            1091 non-null   float64\n",
      " 3   DNI            1091 non-null   float64\n",
      " 4   Radiation      1091 non-null   float64\n",
      " 5   Precipitation  1091 non-null   float64\n",
      " 6   Humidity       1091 non-null   float64\n",
      " 7   Pressure       1091 non-null   float64\n",
      " 8   WindDirection  1091 non-null   float64\n",
      " 9   WindSpeed      1091 non-null   float64\n",
      " 10  Sunrise        1091 non-null   int64  \n",
      " 11  Sunset         1091 non-null   int64  \n",
      " 12  Month          1091 non-null   int64  \n",
      " 13  Year           1091 non-null   int64  \n",
      " 14  Day            1091 non-null   int64  \n",
      "dtypes: float64(10), int64(5)\n",
      "memory usage: 128.0 KB\n"
     ]
    }
   ],
   "source": [
    "df.info()"
   ]
  },
  {
   "cell_type": "markdown",
   "id": "d94262a6",
   "metadata": {},
   "source": [
    "## Split the data"
   ]
  },
  {
   "cell_type": "code",
   "execution_count": null,
   "id": "b5bbfa2e-7064-4e02-b19a-85f33164ff10",
   "metadata": {},
   "outputs": [],
   "source": [
    "# produces a 70%, 15%, 15% split for training, validation and test sets\n",
    "df_train, df_validation, df_test = np.split(cleaned_df.sample(frac = 1), [int(.7 * len(cleaned_df)), int(.85 * len(cleaned_df))])"
   ]
  },
  {
   "cell_type": "code",
   "execution_count": 19,
   "id": "729cbdba",
   "metadata": {},
   "outputs": [
    {
     "name": "stdout",
     "output_type": "stream",
     "text": [
      "Size of train: 67.92 % of original dataframe\n",
      "Size of validation: 17.05 % of original dataframe\n",
      "Size of test: 15.03 % of original dataframe\n"
     ]
    }
   ],
   "source": [
    "from sklearn.model_selection import train_test_split \n",
    "# stratify also along the month column\n",
    "# check that the rain ratio per month is equal between train and test set\n",
    "df_train, df_test = train_test_split(df, test_size=0.15, stratify=df[['Month']]) \n",
    "df_train, df_validation = train_test_split(df_train, test_size=0.2, stratify=df_train[['Month']]) \n",
    "\n",
    "print(\"Size of train:\", round(len(df_train)/len(df)*100, 2), \"% of original dataframe\")\n",
    "print(\"Size of validation:\", round(len(df_validation)/len(df)*100, 2), \"% of original dataframe\")\n",
    "print(\"Size of test:\", round(len(df_test)/len(df)*100, 2), \"% of original dataframe\")\n"
   ]
  },
  {
   "cell_type": "code",
   "execution_count": 20,
   "id": "d3e655cf-f775-4cbb-8033-ab99b0f73093",
   "metadata": {},
   "outputs": [],
   "source": [
    "df_train.to_csv('../data/train.csv', index=False)\n",
    "df_validation.to_csv('../data/validation.csv', index=False)\n",
    "df_test.to_csv('../data/test.csv', index=False)"
   ]
  },
  {
   "cell_type": "code",
   "execution_count": 20,
   "id": "80e80673",
   "metadata": {},
   "outputs": [],
   "source": [
    "def get_features_and_label(df):\n",
    "    label = np.ravel(np.array(df['Radiation']).T)\n",
    "    features = df.drop(columns=['Radiation']).to_numpy()\n",
    "    return features, label"
   ]
  },
  {
   "cell_type": "code",
   "execution_count": 21,
   "id": "fc97ab82",
   "metadata": {},
   "outputs": [],
   "source": [
    "#Split the data into X and y\n",
    "X_train, y_train = get_features_and_label(df_train)\n",
    "X_test, y_test = get_features_and_label(df_test)"
   ]
  },
  {
   "cell_type": "code",
   "execution_count": 22,
   "id": "f5e6aacd",
   "metadata": {},
   "outputs": [
    {
     "data": {
      "text/plain": [
       "((818, 14), (818,))"
      ]
     },
     "execution_count": 22,
     "metadata": {},
     "output_type": "execute_result"
    }
   ],
   "source": [
    "X_train.shape, y_train.shape"
   ]
  },
  {
   "cell_type": "markdown",
   "id": "bdc4bf68",
   "metadata": {},
   "source": [
    "## Modeling"
   ]
  },
  {
   "cell_type": "code",
   "execution_count": 23,
   "id": "0f106c3e",
   "metadata": {},
   "outputs": [
    {
     "data": {
      "text/plain": [
       "['Temperature',\n",
       " 'DHI',\n",
       " 'Precipitation',\n",
       " 'Humidity',\n",
       " 'Pressure',\n",
       " 'WindDirection',\n",
       " 'WindSpeed',\n",
       " 'Sunset',\n",
       " 'Month']"
      ]
     },
     "execution_count": 23,
     "metadata": {},
     "output_type": "execute_result"
    }
   ],
   "source": [
    "skewed_features = []\n",
    "for col in df_train.columns.to_list()[:-2]:    \n",
    "    if col != 'Radiation':\n",
    "        if((min(df_train[col]) > 0)) & (abs(skew(df_train[col])) > 0):\n",
    "            skewed_features.append(col)\n",
    "        \n",
    "skewed_features"
   ]
  },
  {
   "cell_type": "code",
   "execution_count": 24,
   "id": "7a47e5fe",
   "metadata": {},
   "outputs": [],
   "source": [
    "def log_transform(x):\n",
    "    return np.log(x + 1)"
   ]
  },
  {
   "cell_type": "code",
   "execution_count": 25,
   "id": "40a2b8db",
   "metadata": {},
   "outputs": [],
   "source": [
    "preprocessor = ColumnTransformer(\n",
    "    transformers=[\n",
    "        (\"month_encoder\", OneHotEncoder(handle_unknown=\"ignore\"), ['Month']),\n",
    "        (\"log_transform\", FunctionTransformer(log_transform), skewed_features)\n",
    "    ],\n",
    "    remainder='passthrough'\n",
    ")"
   ]
  },
  {
   "cell_type": "code",
   "execution_count": 26,
   "id": "88a715fe",
   "metadata": {},
   "outputs": [],
   "source": [
    "pipeline = Pipeline([  \n",
    "    ('preprocessing', preprocessor),\n",
    "    ('scaler' , StandardScaler()),\n",
    "    ('model' , RandomForestRegressor())\n",
    "])"
   ]
  },
  {
   "cell_type": "code",
   "execution_count": 34,
   "id": "7c5a38f5",
   "metadata": {},
   "outputs": [],
   "source": [
    "parameters = {\n",
    "    'preprocessing__month_encoder': ['passthrough', OneHotEncoder(handle_unknown='ignore')],\n",
    "    'preprocessing__log_transform': ['passthrough', FunctionTransformer(log_transform)],\n",
    "    'scaler': ['passthrough', StandardScaler(), MinMaxScaler(), Normalizer(), RobustScaler()],\n",
    "    'model': [LinearRegression(), RandomForestRegressor(), GradientBoostingRegressor()]\n",
    "}"
   ]
  },
  {
   "cell_type": "code",
   "execution_count": 35,
   "id": "a3dbde54",
   "metadata": {},
   "outputs": [],
   "source": [
    "X_train = df_train.drop(columns=['Radiation'])\n",
    "y_train = df_train['Radiation']\n",
    "\n",
    "X_test = df_test.drop(columns=['Radiation'])\n",
    "y_test = df_test['Radiation']"
   ]
  },
  {
   "cell_type": "code",
   "execution_count": 36,
   "id": "3bac5108",
   "metadata": {},
   "outputs": [
    {
     "data": {
      "text/html": [
       "<div>\n",
       "<style scoped>\n",
       "    .dataframe tbody tr th:only-of-type {\n",
       "        vertical-align: middle;\n",
       "    }\n",
       "\n",
       "    .dataframe tbody tr th {\n",
       "        vertical-align: top;\n",
       "    }\n",
       "\n",
       "    .dataframe thead th {\n",
       "        text-align: right;\n",
       "    }\n",
       "</style>\n",
       "<table border=\"1\" class=\"dataframe\">\n",
       "  <thead>\n",
       "    <tr style=\"text-align: right;\">\n",
       "      <th></th>\n",
       "      <th>Temperature</th>\n",
       "      <th>CloudOpacity</th>\n",
       "      <th>DHI</th>\n",
       "      <th>DNI</th>\n",
       "      <th>Precipitation</th>\n",
       "      <th>Humidity</th>\n",
       "      <th>Pressure</th>\n",
       "      <th>WindDirection</th>\n",
       "      <th>WindSpeed</th>\n",
       "      <th>Sunrise</th>\n",
       "      <th>Sunset</th>\n",
       "      <th>Month</th>\n",
       "      <th>Year</th>\n",
       "      <th>Day</th>\n",
       "    </tr>\n",
       "  </thead>\n",
       "  <tbody>\n",
       "    <tr>\n",
       "      <th>416</th>\n",
       "      <td>20.776923</td>\n",
       "      <td>16.523077</td>\n",
       "      <td>186.923077</td>\n",
       "      <td>408.538462</td>\n",
       "      <td>14.184615</td>\n",
       "      <td>38.538462</td>\n",
       "      <td>765.438462</td>\n",
       "      <td>103.076923</td>\n",
       "      <td>4.407692</td>\n",
       "      <td>0</td>\n",
       "      <td>19</td>\n",
       "      <td>2</td>\n",
       "      <td>2020</td>\n",
       "      <td>20</td>\n",
       "    </tr>\n",
       "    <tr>\n",
       "      <th>666</th>\n",
       "      <td>17.633333</td>\n",
       "      <td>1.841667</td>\n",
       "      <td>66.166667</td>\n",
       "      <td>807.583333</td>\n",
       "      <td>10.275000</td>\n",
       "      <td>36.691667</td>\n",
       "      <td>764.800000</td>\n",
       "      <td>87.250000</td>\n",
       "      <td>3.133333</td>\n",
       "      <td>0</td>\n",
       "      <td>18</td>\n",
       "      <td>10</td>\n",
       "      <td>2020</td>\n",
       "      <td>27</td>\n",
       "    </tr>\n",
       "    <tr>\n",
       "      <th>796</th>\n",
       "      <td>18.823077</td>\n",
       "      <td>6.976923</td>\n",
       "      <td>101.846154</td>\n",
       "      <td>681.307692</td>\n",
       "      <td>11.953846</td>\n",
       "      <td>41.107692</td>\n",
       "      <td>765.900000</td>\n",
       "      <td>112.076923</td>\n",
       "      <td>3.946154</td>\n",
       "      <td>0</td>\n",
       "      <td>19</td>\n",
       "      <td>3</td>\n",
       "      <td>2021</td>\n",
       "      <td>6</td>\n",
       "    </tr>\n",
       "    <tr>\n",
       "      <th>674</th>\n",
       "      <td>18.283333</td>\n",
       "      <td>3.533333</td>\n",
       "      <td>78.000000</td>\n",
       "      <td>771.916667</td>\n",
       "      <td>13.283333</td>\n",
       "      <td>36.866667</td>\n",
       "      <td>765.333333</td>\n",
       "      <td>105.666667</td>\n",
       "      <td>2.341667</td>\n",
       "      <td>0</td>\n",
       "      <td>18</td>\n",
       "      <td>11</td>\n",
       "      <td>2020</td>\n",
       "      <td>4</td>\n",
       "    </tr>\n",
       "    <tr>\n",
       "      <th>188</th>\n",
       "      <td>17.892308</td>\n",
       "      <td>41.023077</td>\n",
       "      <td>248.384615</td>\n",
       "      <td>109.384615</td>\n",
       "      <td>23.969231</td>\n",
       "      <td>68.853846</td>\n",
       "      <td>764.961538</td>\n",
       "      <td>168.461538</td>\n",
       "      <td>1.676923</td>\n",
       "      <td>0</td>\n",
       "      <td>19</td>\n",
       "      <td>7</td>\n",
       "      <td>2019</td>\n",
       "      <td>7</td>\n",
       "    </tr>\n",
       "    <tr>\n",
       "      <th>...</th>\n",
       "      <td>...</td>\n",
       "      <td>...</td>\n",
       "      <td>...</td>\n",
       "      <td>...</td>\n",
       "      <td>...</td>\n",
       "      <td>...</td>\n",
       "      <td>...</td>\n",
       "      <td>...</td>\n",
       "      <td>...</td>\n",
       "      <td>...</td>\n",
       "      <td>...</td>\n",
       "      <td>...</td>\n",
       "      <td>...</td>\n",
       "      <td>...</td>\n",
       "    </tr>\n",
       "    <tr>\n",
       "      <th>927</th>\n",
       "      <td>13.507692</td>\n",
       "      <td>63.300000</td>\n",
       "      <td>229.461538</td>\n",
       "      <td>10.461538</td>\n",
       "      <td>25.653846</td>\n",
       "      <td>86.846154</td>\n",
       "      <td>765.207692</td>\n",
       "      <td>256.153846</td>\n",
       "      <td>1.207692</td>\n",
       "      <td>0</td>\n",
       "      <td>19</td>\n",
       "      <td>7</td>\n",
       "      <td>2021</td>\n",
       "      <td>15</td>\n",
       "    </tr>\n",
       "    <tr>\n",
       "      <th>1085</th>\n",
       "      <td>18.800000</td>\n",
       "      <td>22.853846</td>\n",
       "      <td>187.769231</td>\n",
       "      <td>355.307692</td>\n",
       "      <td>18.546154</td>\n",
       "      <td>51.538462</td>\n",
       "      <td>766.123077</td>\n",
       "      <td>108.769231</td>\n",
       "      <td>4.146154</td>\n",
       "      <td>0</td>\n",
       "      <td>19</td>\n",
       "      <td>12</td>\n",
       "      <td>2021</td>\n",
       "      <td>20</td>\n",
       "    </tr>\n",
       "    <tr>\n",
       "      <th>49</th>\n",
       "      <td>21.023077</td>\n",
       "      <td>4.976923</td>\n",
       "      <td>117.923077</td>\n",
       "      <td>636.769231</td>\n",
       "      <td>14.846154</td>\n",
       "      <td>48.676923</td>\n",
       "      <td>782.384615</td>\n",
       "      <td>101.769231</td>\n",
       "      <td>2.123077</td>\n",
       "      <td>0</td>\n",
       "      <td>19</td>\n",
       "      <td>2</td>\n",
       "      <td>2019</td>\n",
       "      <td>18</td>\n",
       "    </tr>\n",
       "    <tr>\n",
       "      <th>221</th>\n",
       "      <td>15.438462</td>\n",
       "      <td>49.353846</td>\n",
       "      <td>250.538462</td>\n",
       "      <td>74.076923</td>\n",
       "      <td>26.376923</td>\n",
       "      <td>83.100000</td>\n",
       "      <td>766.038462</td>\n",
       "      <td>247.846154</td>\n",
       "      <td>1.215385</td>\n",
       "      <td>0</td>\n",
       "      <td>19</td>\n",
       "      <td>8</td>\n",
       "      <td>2019</td>\n",
       "      <td>9</td>\n",
       "    </tr>\n",
       "    <tr>\n",
       "      <th>300</th>\n",
       "      <td>17.315385</td>\n",
       "      <td>2.984615</td>\n",
       "      <td>82.769231</td>\n",
       "      <td>673.923077</td>\n",
       "      <td>13.700000</td>\n",
       "      <td>50.153846</td>\n",
       "      <td>764.092308</td>\n",
       "      <td>105.538462</td>\n",
       "      <td>2.592308</td>\n",
       "      <td>0</td>\n",
       "      <td>18</td>\n",
       "      <td>10</td>\n",
       "      <td>2019</td>\n",
       "      <td>27</td>\n",
       "    </tr>\n",
       "  </tbody>\n",
       "</table>\n",
       "<p>818 rows × 14 columns</p>\n",
       "</div>"
      ],
      "text/plain": [
       "      Temperature  CloudOpacity         DHI         DNI  Precipitation  \\\n",
       "416     20.776923     16.523077  186.923077  408.538462      14.184615   \n",
       "666     17.633333      1.841667   66.166667  807.583333      10.275000   \n",
       "796     18.823077      6.976923  101.846154  681.307692      11.953846   \n",
       "674     18.283333      3.533333   78.000000  771.916667      13.283333   \n",
       "188     17.892308     41.023077  248.384615  109.384615      23.969231   \n",
       "...           ...           ...         ...         ...            ...   \n",
       "927     13.507692     63.300000  229.461538   10.461538      25.653846   \n",
       "1085    18.800000     22.853846  187.769231  355.307692      18.546154   \n",
       "49      21.023077      4.976923  117.923077  636.769231      14.846154   \n",
       "221     15.438462     49.353846  250.538462   74.076923      26.376923   \n",
       "300     17.315385      2.984615   82.769231  673.923077      13.700000   \n",
       "\n",
       "       Humidity    Pressure  WindDirection  WindSpeed  Sunrise  Sunset  Month  \\\n",
       "416   38.538462  765.438462     103.076923   4.407692        0      19      2   \n",
       "666   36.691667  764.800000      87.250000   3.133333        0      18     10   \n",
       "796   41.107692  765.900000     112.076923   3.946154        0      19      3   \n",
       "674   36.866667  765.333333     105.666667   2.341667        0      18     11   \n",
       "188   68.853846  764.961538     168.461538   1.676923        0      19      7   \n",
       "...         ...         ...            ...        ...      ...     ...    ...   \n",
       "927   86.846154  765.207692     256.153846   1.207692        0      19      7   \n",
       "1085  51.538462  766.123077     108.769231   4.146154        0      19     12   \n",
       "49    48.676923  782.384615     101.769231   2.123077        0      19      2   \n",
       "221   83.100000  766.038462     247.846154   1.215385        0      19      8   \n",
       "300   50.153846  764.092308     105.538462   2.592308        0      18     10   \n",
       "\n",
       "      Year  Day  \n",
       "416   2020   20  \n",
       "666   2020   27  \n",
       "796   2021    6  \n",
       "674   2020    4  \n",
       "188   2019    7  \n",
       "...    ...  ...  \n",
       "927   2021   15  \n",
       "1085  2021   20  \n",
       "49    2019   18  \n",
       "221   2019    9  \n",
       "300   2019   27  \n",
       "\n",
       "[818 rows x 14 columns]"
      ]
     },
     "execution_count": 36,
     "metadata": {},
     "output_type": "execute_result"
    }
   ],
   "source": [
    "X_train"
   ]
  },
  {
   "cell_type": "code",
   "execution_count": 37,
   "id": "4f2971f3",
   "metadata": {},
   "outputs": [
    {
     "name": "stdout",
     "output_type": "stream",
     "text": [
      "Training set score: 0.9826531630286486\n",
      "Test set score: 0.9814263334740446\n",
      "Pipeline(steps=[('preprocessing',\n",
      "                 ColumnTransformer(remainder='passthrough',\n",
      "                                   transformers=[('month_encoder',\n",
      "                                                  OneHotEncoder(handle_unknown='ignore'),\n",
      "                                                  ['Month']),\n",
      "                                                 ('log_transform',\n",
      "                                                  'passthrough',\n",
      "                                                  ['Temperature', 'DHI',\n",
      "                                                   'Precipitation', 'Humidity',\n",
      "                                                   'Pressure', 'WindDirection',\n",
      "                                                   'WindSpeed', 'Sunset',\n",
      "                                                   'Month'])])),\n",
      "                ('scaler', Normalizer()), ('model', LinearRegression())])\n"
     ]
    }
   ],
   "source": [
    "scoring = {'max_error': 'max_error', 'neg_mean_squared_error': 'neg_mean_squared_error', 'r2':'r2'}\n",
    "\n",
    "grid = GridSearchCV(pipeline, parameters, cv=5, scoring=scoring, refit='r2', return_train_score=True).fit(X_train, y_train)\n",
    "\n",
    "print('Training set score: ' + str(grid.score(X_train, y_train)))\n",
    "print('Test set score: ' + str(grid.score(X_test, y_test)))\n",
    " \n",
    "# Access the best set of parameters\n",
    "best_params = grid.best_params_\n",
    "#print(best_params)\n",
    "# Stores the optimum model in best_pipe\n",
    "best_pipe = grid.best_estimator_\n",
    "print(best_pipe)"
   ]
  },
  {
   "cell_type": "markdown",
   "id": "ae8f10c4",
   "metadata": {},
   "source": [
    "## Plotting the predictions"
   ]
  },
  {
   "cell_type": "code",
   "execution_count": 31,
   "id": "c3f7cca6",
   "metadata": {},
   "outputs": [],
   "source": [
    "y_pred = best_pipe.predict(X_test)"
   ]
  },
  {
   "cell_type": "code",
   "execution_count": 32,
   "id": "f5acd877",
   "metadata": {},
   "outputs": [
    {
     "data": {
      "image/png": "[encoded data removed]",
      "text/plain": [
       "<Figure size 1584x576 with 1 Axes>"
      ]
     },
     "metadata": {
      "needs_background": "light"
     },
     "output_type": "display_data"
    }
   ],
   "source": [
    "# run the model against the test data presented through a plot\n",
    "fig, ax = plt.subplots(figsize=(22,8))\n",
    "\n",
    "ax.scatter(y_test, y_pred, edgecolors=(0, 0, 0))\n",
    "ax.plot([y_test.min(), y_test.max()], [y_test.min(), y_test.max()], 'm--', lw=3)\n",
    "ax.set_xlabel('Actual solar irradiation')\n",
    "ax.set_ylabel('Predicted solar irradiation')\n",
    "ax.set_title(\" Best pipeline [Random Forest]: Actual vs Predicted Solar Irradiation\");"
   ]
  },
  {
   "cell_type": "code",
   "execution_count": 33,
   "id": "8a16e729",
   "metadata": {},
   "outputs": [
    {
     "name": "stderr",
     "output_type": "stream",
     "text": [
      "/home/studio-lab-user/.conda/envs/default/lib/python3.9/site-packages/seaborn/_decorators.py:36: FutureWarning: Pass the following variables as keyword args: x, y. From version 0.12, the only valid positional argument will be `data`, and passing other arguments without an explicit keyword will result in an error or misinterpretation.\n",
      "  warnings.warn(\n"
     ]
    },
    {
     "data": {
      "image/png": "[encoded data removed]",
      "text/plain": [
       "<Figure size 432x432 with 3 Axes>"
      ]
     },
     "metadata": {
      "needs_background": "light"
     },
     "output_type": "display_data"
    }
   ],
   "source": [
    "sns.jointplot(y_test, y_pred, kind='reg', ax=ax)\n",
    "plt.show()"
   ]
  }
 ],
 "metadata": {
  "kernelspec": {
   "display_name": "default:Python",
   "language": "python",
   "name": "conda-env-default-py"
  },
  "language_info": {
   "codemirror_mode": {
    "name": "ipython",
    "version": 3
   },
   "file_extension": ".py",
   "mimetype": "text/x-python",
   "name": "python",
   "nbconvert_exporter": "python",
   "pygments_lexer": "ipython3",
   "version": "3.9.7"
  }
 },
 "nbformat": 4,
 "nbformat_minor": 5
}
