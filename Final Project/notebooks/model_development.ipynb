{
 "cells": [
  {
   "cell_type": "code",
   "execution_count": 1,
   "id": "6a7ec84a",
   "metadata": {},
   "outputs": [],
   "source": [
    "# import libraries\n",
    "import numpy as np\n",
    "import pandas as pd\n",
    "from pathlib import Path\n",
    "\n",
    "import seaborn as sns\n",
    "import matplotlib.pyplot as plt\n",
    "%matplotlib inline\n",
    "plt.rcParams['font.size'] = '15'\n",
    "\n",
    "from sklearn.linear_model import LinearRegression, SGDRegressor\n",
    "from sklearn.ensemble import RandomForestRegressor, GradientBoostingRegressor\n",
    "from sklearn.svm import SVR\n",
    "from lightgbm import LGBMRegressor\n",
    "from xgboost.sklearn import XGBRegressor\n",
    "from catboost import CatBoostRegressor\n",
    "from sklearn.kernel_ridge import KernelRidge\n",
    "from sklearn.linear_model import ElasticNet, Lasso,  BayesianRidge, Ridge\n",
    "\n",
    "from sklearn.preprocessing import RobustScaler, MinMaxScaler, StandardScaler, Normalizer, FunctionTransformer\n",
    "from sklearn.preprocessing import OneHotEncoder\n",
    "from sklearn.pipeline import Pipeline, make_pipeline\n",
    "from sklearn.compose import ColumnTransformer, make_column_selector\n",
    "from sklearn.preprocessing import FunctionTransformer\n",
    "from scipy.stats import skew\n",
    "\n",
    "from sklearn.model_selection import cross_val_score, cross_validate\n",
    "from sklearn.model_selection import GridSearchCV\n",
    "from sklearn.model_selection import KFold\n",
    "from sklearn.model_selection import StratifiedKFold"
   ]
  },
  {
   "cell_type": "code",
   "execution_count": 2,
   "id": "02c76e1a",
   "metadata": {},
   "outputs": [],
   "source": [
    "# read the dataframe\n",
    "df = pd.read_csv('../data/Addis_Ababa_Solcast_clean.csv')"
   ]
  },
  {
   "cell_type": "code",
   "execution_count": 3,
   "id": "ab5f1f87-5af9-49b1-a044-8684f4405ded",
   "metadata": {},
   "outputs": [],
   "source": [
    "# feature engineering\n",
    "df['date'] = pd.to_datetime(df['date'], format='%Y-%m-%d')\n",
    "df['Year'] = df['date'].dt.year\n",
    "df['Day'] = df['date'].dt.day"
   ]
  },
  {
   "cell_type": "code",
   "execution_count": 4,
   "id": "dd428a8b-332b-4261-ae1a-8668f48660c9",
   "metadata": {},
   "outputs": [],
   "source": [
    "df = df.drop(columns=['date'])"
   ]
  },
  {
   "cell_type": "code",
   "execution_count": 5,
   "id": "0e2f1e93",
   "metadata": {},
   "outputs": [
    {
     "name": "stdout",
     "output_type": "stream",
     "text": [
      "<class 'pandas.core.frame.DataFrame'>\n",
      "RangeIndex: 1091 entries, 0 to 1090\n",
      "Data columns (total 15 columns):\n",
      " #   Column         Non-Null Count  Dtype  \n",
      "---  ------         --------------  -----  \n",
      " 0   Temperature    1091 non-null   float64\n",
      " 1   CloudOpacity   1091 non-null   float64\n",
      " 2   DHI            1091 non-null   float64\n",
      " 3   DNI            1091 non-null   float64\n",
      " 4   Radiation      1091 non-null   float64\n",
      " 5   Precipitation  1091 non-null   float64\n",
      " 6   Humidity       1091 non-null   float64\n",
      " 7   Pressure       1091 non-null   float64\n",
      " 8   WindDirection  1091 non-null   float64\n",
      " 9   WindSpeed      1091 non-null   float64\n",
      " 10  Sunrise        1091 non-null   int64  \n",
      " 11  Sunset         1091 non-null   int64  \n",
      " 12  Month          1091 non-null   int64  \n",
      " 13  Year           1091 non-null   int64  \n",
      " 14  Day            1091 non-null   int64  \n",
      "dtypes: float64(10), int64(5)\n",
      "memory usage: 128.0 KB\n"
     ]
    }
   ],
   "source": [
    "df.info()"
   ]
  },
  {
   "cell_type": "markdown",
   "id": "d94262a6",
   "metadata": {},
   "source": [
    "## Split the data"
   ]
  },
  {
   "cell_type": "code",
   "execution_count": 6,
   "id": "729cbdba",
   "metadata": {},
   "outputs": [
    {
     "name": "stdout",
     "output_type": "stream",
     "text": [
      "Size of train: 67.92 % of original dataframe\n",
      "Size of validation: 17.05 % of original dataframe\n",
      "Size of test: 15.03 % of original dataframe\n"
     ]
    }
   ],
   "source": [
    "from sklearn.model_selection import train_test_split \n",
    "# stratify also along the month column\n",
    "# check that the rain ratio per month is equal between train and test set\n",
    "df_train, df_test = train_test_split(df, test_size=0.15, stratify=df[['Month']]) \n",
    "df_train, df_validation = train_test_split(df_train, test_size=0.2, stratify=df_train[['Month']]) \n",
    "\n",
    "print(\"Size of train:\", round(len(df_train)/len(df)*100, 2), \"% of original dataframe\")\n",
    "print(\"Size of validation:\", round(len(df_validation)/len(df)*100, 2), \"% of original dataframe\")\n",
    "print(\"Size of test:\", round(len(df_test)/len(df)*100, 2), \"% of original dataframe\")\n"
   ]
  },
  {
   "cell_type": "code",
   "execution_count": 7,
   "id": "d3e655cf-f775-4cbb-8033-ab99b0f73093",
   "metadata": {},
   "outputs": [],
   "source": [
    "df_train.to_csv('../data/train.csv', index=False)\n",
    "df_validation.to_csv('../data/validation.csv', index=False)\n",
    "df_test.to_csv('../data/test.csv', index=False)"
   ]
  },
  {
   "cell_type": "code",
   "execution_count": 8,
   "id": "80e80673",
   "metadata": {},
   "outputs": [],
   "source": [
    "def get_features_and_label(df):\n",
    "    label = np.ravel(np.array(df['Radiation']).T)\n",
    "    features = df.drop(columns=['Radiation']).to_numpy()\n",
    "    return features, label"
   ]
  },
  {
   "cell_type": "code",
   "execution_count": 9,
   "id": "fc97ab82",
   "metadata": {},
   "outputs": [],
   "source": [
    "#Split the data into X and y\n",
    "X_train, y_train = get_features_and_label(df_train)\n",
    "X_test, y_test = get_features_and_label(df_test)"
   ]
  },
  {
   "cell_type": "code",
   "execution_count": 10,
   "id": "f5e6aacd",
   "metadata": {},
   "outputs": [
    {
     "data": {
      "text/plain": [
       "((741, 14), (741,))"
      ]
     },
     "execution_count": 10,
     "metadata": {},
     "output_type": "execute_result"
    }
   ],
   "source": [
    "X_train.shape, y_train.shape"
   ]
  },
  {
   "cell_type": "markdown",
   "id": "bdc4bf68",
   "metadata": {},
   "source": [
    "## Modeling"
   ]
  },
  {
   "cell_type": "code",
   "execution_count": 11,
   "id": "0f106c3e",
   "metadata": {},
   "outputs": [
    {
     "data": {
      "text/plain": [
       "['Temperature',\n",
       " 'DHI',\n",
       " 'Precipitation',\n",
       " 'Humidity',\n",
       " 'Pressure',\n",
       " 'WindDirection',\n",
       " 'WindSpeed',\n",
       " 'Sunset',\n",
       " 'Month']"
      ]
     },
     "execution_count": 11,
     "metadata": {},
     "output_type": "execute_result"
    }
   ],
   "source": [
    "skewed_features = []\n",
    "for col in df_train.columns.to_list()[:-2]:    \n",
    "    if col != 'Radiation':\n",
    "        if((min(df_train[col]) > 0)) & (abs(skew(df_train[col])) > 0):\n",
    "            skewed_features.append(col)\n",
    "        \n",
    "skewed_features"
   ]
  },
  {
   "cell_type": "code",
   "execution_count": 12,
   "id": "7a47e5fe",
   "metadata": {},
   "outputs": [],
   "source": [
    "def log_transform(x):\n",
    "    return np.log(x + 1)"
   ]
  },
  {
   "cell_type": "code",
   "execution_count": 13,
   "id": "40a2b8db",
   "metadata": {},
   "outputs": [],
   "source": [
    "preprocessor = ColumnTransformer(\n",
    "    transformers=[\n",
    "        (\"month_encoder\", OneHotEncoder(handle_unknown=\"ignore\"), ['Month']),\n",
    "        (\"log_transform\", FunctionTransformer(log_transform), skewed_features)\n",
    "    ],\n",
    "    remainder='passthrough'\n",
    ")"
   ]
  },
  {
   "cell_type": "code",
   "execution_count": 14,
   "id": "88a715fe",
   "metadata": {},
   "outputs": [],
   "source": [
    "pipeline = Pipeline([  \n",
    "    ('preprocessing', preprocessor),\n",
    "    ('scaler' , StandardScaler()),\n",
    "    ('model' , RandomForestRegressor())\n",
    "])"
   ]
  },
  {
   "cell_type": "code",
   "execution_count": 15,
   "id": "7c5a38f5",
   "metadata": {},
   "outputs": [],
   "source": [
    "parameters = {\n",
    "    'preprocessing__month_encoder': ['passthrough', OneHotEncoder(handle_unknown='ignore')],\n",
    "    'preprocessing__log_transform': ['passthrough', FunctionTransformer(log_transform)],\n",
    "    'scaler': ['passthrough', StandardScaler(), MinMaxScaler(), Normalizer(), RobustScaler()],\n",
    "    'model': [LinearRegression(), RandomForestRegressor(), GradientBoostingRegressor()]\n",
    "}"
   ]
  },
  {
   "cell_type": "code",
   "execution_count": 16,
   "id": "a3dbde54",
   "metadata": {},
   "outputs": [],
   "source": [
    "X_train = df_train.drop(columns=['Radiation'])\n",
    "y_train = df_train['Radiation']\n",
    "\n",
    "X_test = df_test.drop(columns=['Radiation'])\n",
    "y_test = df_test['Radiation']"
   ]
  },
  {
   "cell_type": "code",
   "execution_count": 17,
   "id": "3bac5108",
   "metadata": {},
   "outputs": [
    {
     "data": {
      "text/html": [
       "<div>\n",
       "<style scoped>\n",
       "    .dataframe tbody tr th:only-of-type {\n",
       "        vertical-align: middle;\n",
       "    }\n",
       "\n",
       "    .dataframe tbody tr th {\n",
       "        vertical-align: top;\n",
       "    }\n",
       "\n",
       "    .dataframe thead th {\n",
       "        text-align: right;\n",
       "    }\n",
       "</style>\n",
       "<table border=\"1\" class=\"dataframe\">\n",
       "  <thead>\n",
       "    <tr style=\"text-align: right;\">\n",
       "      <th></th>\n",
       "      <th>Temperature</th>\n",
       "      <th>CloudOpacity</th>\n",
       "      <th>DHI</th>\n",
       "      <th>DNI</th>\n",
       "      <th>Precipitation</th>\n",
       "      <th>Humidity</th>\n",
       "      <th>Pressure</th>\n",
       "      <th>WindDirection</th>\n",
       "      <th>WindSpeed</th>\n",
       "      <th>Sunrise</th>\n",
       "      <th>Sunset</th>\n",
       "      <th>Month</th>\n",
       "      <th>Year</th>\n",
       "      <th>Day</th>\n",
       "    </tr>\n",
       "  </thead>\n",
       "  <tbody>\n",
       "    <tr>\n",
       "      <th>150</th>\n",
       "      <td>19.630769</td>\n",
       "      <td>33.392308</td>\n",
       "      <td>226.769231</td>\n",
       "      <td>222.615385</td>\n",
       "      <td>23.738462</td>\n",
       "      <td>67.200000</td>\n",
       "      <td>781.784615</td>\n",
       "      <td>139.230769</td>\n",
       "      <td>1.523077</td>\n",
       "      <td>0</td>\n",
       "      <td>19</td>\n",
       "      <td>5</td>\n",
       "      <td>2019</td>\n",
       "      <td>30</td>\n",
       "    </tr>\n",
       "    <tr>\n",
       "      <th>351</th>\n",
       "      <td>16.984615</td>\n",
       "      <td>0.338462</td>\n",
       "      <td>53.692308</td>\n",
       "      <td>776.846154</td>\n",
       "      <td>12.553846</td>\n",
       "      <td>51.223077</td>\n",
       "      <td>765.015385</td>\n",
       "      <td>116.307692</td>\n",
       "      <td>3.269231</td>\n",
       "      <td>0</td>\n",
       "      <td>19</td>\n",
       "      <td>12</td>\n",
       "      <td>2019</td>\n",
       "      <td>17</td>\n",
       "    </tr>\n",
       "    <tr>\n",
       "      <th>993</th>\n",
       "      <td>17.430769</td>\n",
       "      <td>36.946154</td>\n",
       "      <td>204.692308</td>\n",
       "      <td>258.461538</td>\n",
       "      <td>20.000000</td>\n",
       "      <td>67.830769</td>\n",
       "      <td>765.315385</td>\n",
       "      <td>114.307692</td>\n",
       "      <td>2.238462</td>\n",
       "      <td>0</td>\n",
       "      <td>19</td>\n",
       "      <td>9</td>\n",
       "      <td>2021</td>\n",
       "      <td>19</td>\n",
       "    </tr>\n",
       "    <tr>\n",
       "      <th>646</th>\n",
       "      <td>17.076923</td>\n",
       "      <td>13.430769</td>\n",
       "      <td>167.461538</td>\n",
       "      <td>505.538462</td>\n",
       "      <td>11.561538</td>\n",
       "      <td>48.876923</td>\n",
       "      <td>765.538462</td>\n",
       "      <td>85.153846</td>\n",
       "      <td>3.561538</td>\n",
       "      <td>0</td>\n",
       "      <td>19</td>\n",
       "      <td>10</td>\n",
       "      <td>2020</td>\n",
       "      <td>7</td>\n",
       "    </tr>\n",
       "    <tr>\n",
       "      <th>954</th>\n",
       "      <td>17.546154</td>\n",
       "      <td>44.346154</td>\n",
       "      <td>229.384615</td>\n",
       "      <td>155.076923</td>\n",
       "      <td>21.076923</td>\n",
       "      <td>68.207692</td>\n",
       "      <td>764.730769</td>\n",
       "      <td>153.384615</td>\n",
       "      <td>1.538462</td>\n",
       "      <td>0</td>\n",
       "      <td>19</td>\n",
       "      <td>8</td>\n",
       "      <td>2021</td>\n",
       "      <td>11</td>\n",
       "    </tr>\n",
       "    <tr>\n",
       "      <th>...</th>\n",
       "      <td>...</td>\n",
       "      <td>...</td>\n",
       "      <td>...</td>\n",
       "      <td>...</td>\n",
       "      <td>...</td>\n",
       "      <td>...</td>\n",
       "      <td>...</td>\n",
       "      <td>...</td>\n",
       "      <td>...</td>\n",
       "      <td>...</td>\n",
       "      <td>...</td>\n",
       "      <td>...</td>\n",
       "      <td>...</td>\n",
       "      <td>...</td>\n",
       "    </tr>\n",
       "    <tr>\n",
       "      <th>258</th>\n",
       "      <td>17.723077</td>\n",
       "      <td>38.184615</td>\n",
       "      <td>280.076923</td>\n",
       "      <td>111.846154</td>\n",
       "      <td>23.738462</td>\n",
       "      <td>70.884615</td>\n",
       "      <td>765.476923</td>\n",
       "      <td>183.692308</td>\n",
       "      <td>2.284615</td>\n",
       "      <td>0</td>\n",
       "      <td>19</td>\n",
       "      <td>9</td>\n",
       "      <td>2019</td>\n",
       "      <td>15</td>\n",
       "    </tr>\n",
       "    <tr>\n",
       "      <th>776</th>\n",
       "      <td>19.884615</td>\n",
       "      <td>6.046154</td>\n",
       "      <td>113.769231</td>\n",
       "      <td>618.769231</td>\n",
       "      <td>13.600000</td>\n",
       "      <td>33.361538</td>\n",
       "      <td>765.123077</td>\n",
       "      <td>122.538462</td>\n",
       "      <td>3.407692</td>\n",
       "      <td>0</td>\n",
       "      <td>19</td>\n",
       "      <td>2</td>\n",
       "      <td>2021</td>\n",
       "      <td>14</td>\n",
       "    </tr>\n",
       "    <tr>\n",
       "      <th>586</th>\n",
       "      <td>14.838462</td>\n",
       "      <td>53.476923</td>\n",
       "      <td>236.846154</td>\n",
       "      <td>91.769231</td>\n",
       "      <td>26.576923</td>\n",
       "      <td>85.169231</td>\n",
       "      <td>764.638462</td>\n",
       "      <td>235.384615</td>\n",
       "      <td>2.338462</td>\n",
       "      <td>0</td>\n",
       "      <td>19</td>\n",
       "      <td>8</td>\n",
       "      <td>2020</td>\n",
       "      <td>8</td>\n",
       "    </tr>\n",
       "    <tr>\n",
       "      <th>1068</th>\n",
       "      <td>17.791667</td>\n",
       "      <td>3.041667</td>\n",
       "      <td>95.000000</td>\n",
       "      <td>722.833333</td>\n",
       "      <td>8.600000</td>\n",
       "      <td>32.008333</td>\n",
       "      <td>765.458333</td>\n",
       "      <td>115.833333</td>\n",
       "      <td>3.200000</td>\n",
       "      <td>0</td>\n",
       "      <td>18</td>\n",
       "      <td>12</td>\n",
       "      <td>2021</td>\n",
       "      <td>3</td>\n",
       "    </tr>\n",
       "    <tr>\n",
       "      <th>36</th>\n",
       "      <td>20.384615</td>\n",
       "      <td>5.438462</td>\n",
       "      <td>93.846154</td>\n",
       "      <td>655.538462</td>\n",
       "      <td>14.292308</td>\n",
       "      <td>42.892308</td>\n",
       "      <td>783.423077</td>\n",
       "      <td>91.769231</td>\n",
       "      <td>4.069231</td>\n",
       "      <td>0</td>\n",
       "      <td>19</td>\n",
       "      <td>2</td>\n",
       "      <td>2019</td>\n",
       "      <td>5</td>\n",
       "    </tr>\n",
       "  </tbody>\n",
       "</table>\n",
       "<p>741 rows × 14 columns</p>\n",
       "</div>"
      ],
      "text/plain": [
       "      Temperature  CloudOpacity         DHI         DNI  Precipitation  \\\n",
       "150     19.630769     33.392308  226.769231  222.615385      23.738462   \n",
       "351     16.984615      0.338462   53.692308  776.846154      12.553846   \n",
       "993     17.430769     36.946154  204.692308  258.461538      20.000000   \n",
       "646     17.076923     13.430769  167.461538  505.538462      11.561538   \n",
       "954     17.546154     44.346154  229.384615  155.076923      21.076923   \n",
       "...           ...           ...         ...         ...            ...   \n",
       "258     17.723077     38.184615  280.076923  111.846154      23.738462   \n",
       "776     19.884615      6.046154  113.769231  618.769231      13.600000   \n",
       "586     14.838462     53.476923  236.846154   91.769231      26.576923   \n",
       "1068    17.791667      3.041667   95.000000  722.833333       8.600000   \n",
       "36      20.384615      5.438462   93.846154  655.538462      14.292308   \n",
       "\n",
       "       Humidity    Pressure  WindDirection  WindSpeed  Sunrise  Sunset  Month  \\\n",
       "150   67.200000  781.784615     139.230769   1.523077        0      19      5   \n",
       "351   51.223077  765.015385     116.307692   3.269231        0      19     12   \n",
       "993   67.830769  765.315385     114.307692   2.238462        0      19      9   \n",
       "646   48.876923  765.538462      85.153846   3.561538        0      19     10   \n",
       "954   68.207692  764.730769     153.384615   1.538462        0      19      8   \n",
       "...         ...         ...            ...        ...      ...     ...    ...   \n",
       "258   70.884615  765.476923     183.692308   2.284615        0      19      9   \n",
       "776   33.361538  765.123077     122.538462   3.407692        0      19      2   \n",
       "586   85.169231  764.638462     235.384615   2.338462        0      19      8   \n",
       "1068  32.008333  765.458333     115.833333   3.200000        0      18     12   \n",
       "36    42.892308  783.423077      91.769231   4.069231        0      19      2   \n",
       "\n",
       "      Year  Day  \n",
       "150   2019   30  \n",
       "351   2019   17  \n",
       "993   2021   19  \n",
       "646   2020    7  \n",
       "954   2021   11  \n",
       "...    ...  ...  \n",
       "258   2019   15  \n",
       "776   2021   14  \n",
       "586   2020    8  \n",
       "1068  2021    3  \n",
       "36    2019    5  \n",
       "\n",
       "[741 rows x 14 columns]"
      ]
     },
     "execution_count": 17,
     "metadata": {},
     "output_type": "execute_result"
    }
   ],
   "source": [
    "X_train"
   ]
  },
  {
   "cell_type": "code",
   "execution_count": 18,
   "id": "4f2971f3",
   "metadata": {},
   "outputs": [
    {
     "name": "stdout",
     "output_type": "stream",
     "text": [
      "Training set score: 0.9817938658731313\n",
      "Test set score: 0.980037163905801\n",
      "Pipeline(steps=[('preprocessing',\n",
      "                 ColumnTransformer(remainder='passthrough',\n",
      "                                   transformers=[('month_encoder',\n",
      "                                                  OneHotEncoder(handle_unknown='ignore'),\n",
      "                                                  ['Month']),\n",
      "                                                 ('log_transform',\n",
      "                                                  'passthrough',\n",
      "                                                  ['Temperature', 'DHI',\n",
      "                                                   'Precipitation', 'Humidity',\n",
      "                                                   'Pressure', 'WindDirection',\n",
      "                                                   'WindSpeed', 'Sunset',\n",
      "                                                   'Month'])])),\n",
      "                ('scaler', Normalizer()), ('model', LinearRegression())])\n"
     ]
    }
   ],
   "source": [
    "scoring = {'max_error': 'max_error', 'neg_mean_squared_error': 'neg_mean_squared_error', 'r2':'r2'}\n",
    "\n",
    "grid = GridSearchCV(pipeline, parameters, cv=5, scoring=scoring, refit='r2', return_train_score=True).fit(X_train, y_train)\n",
    "\n",
    "print('Training set score: ' + str(grid.score(X_train, y_train)))\n",
    "print('Test set score: ' + str(grid.score(X_test, y_test)))\n",
    " \n",
    "# Access the best set of parameters\n",
    "best_params = grid.best_params_\n",
    "#print(best_params)\n",
    "# Stores the optimum model in best_pipe\n",
    "best_pipe = grid.best_estimator_\n",
    "print(best_pipe)"
   ]
  },
  {
   "cell_type": "markdown",
   "id": "ae8f10c4",
   "metadata": {},
   "source": [
    "## Plotting the predictions"
   ]
  },
  {
   "cell_type": "code",
   "execution_count": 19,
   "id": "c3f7cca6",
   "metadata": {},
   "outputs": [],
   "source": [
    "y_pred = best_pipe.predict(X_test)"
   ]
  },
  {
   "cell_type": "code",
   "execution_count": 20,
   "id": "f5acd877",
   "metadata": {},
   "outputs": [
    {
     "data": {
      "image/png": "[encoded data removed]",
      "text/plain": [
       "<Figure size 1584x576 with 1 Axes>"
      ]
     },
     "metadata": {
      "needs_background": "light"
     },
     "output_type": "display_data"
    }
   ],
   "source": [
    "# run the model against the test data presented through a plot\n",
    "fig, ax = plt.subplots(figsize=(22,8))\n",
    "\n",
    "ax.scatter(y_test, y_pred, edgecolors=(0, 0, 0))\n",
    "ax.plot([y_test.min(), y_test.max()], [y_test.min(), y_test.max()], 'm--', lw=3)\n",
    "ax.set_xlabel('Actual solar irradiation')\n",
    "ax.set_ylabel('Predicted solar irradiation')\n",
    "ax.set_title(\" Best pipeline [Random Forest]: Actual vs Predicted Solar Irradiation\");"
   ]
  },
  {
   "cell_type": "code",
   "execution_count": 21,
   "id": "8a16e729",
   "metadata": {},
   "outputs": [
    {
     "name": "stderr",
     "output_type": "stream",
     "text": [
      "/home/studio-lab-user/.conda/envs/default/lib/python3.9/site-packages/seaborn/_decorators.py:36: FutureWarning: Pass the following variables as keyword args: x, y. From version 0.12, the only valid positional argument will be `data`, and passing other arguments without an explicit keyword will result in an error or misinterpretation.\n",
      "  warnings.warn(\n"
     ]
    },
    {
     "data": {
      "image/png": "[encoded data removed]",
      "text/plain": [
       "<Figure size 432x432 with 3 Axes>"
      ]
     },
     "metadata": {
      "needs_background": "light"
     },
     "output_type": "display_data"
    }
   ],
   "source": [
    "sns.jointplot(y_test, y_pred, kind='reg', ax=ax)\n",
    "plt.show()"
   ]
  }
 ],
 "metadata": {
  "kernelspec": {
   "display_name": "default:Python",
   "language": "python",
   "name": "conda-env-default-py"
  },
  "language_info": {
   "codemirror_mode": {
    "name": "ipython",
    "version": 3
   },
   "file_extension": ".py",
   "mimetype": "text/x-python",
   "name": "python",
   "nbconvert_exporter": "python",
   "pygments_lexer": "ipython3",
   "version": "3.9.7"
  }
 },
 "nbformat": 4,
 "nbformat_minor": 5
}
